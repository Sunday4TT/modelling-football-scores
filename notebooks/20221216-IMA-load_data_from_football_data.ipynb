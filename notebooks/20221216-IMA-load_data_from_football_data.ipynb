{
 "cells": [
  {
   "cell_type": "markdown",
   "id": "de675431-35c4-4cf3-b2c3-908f833e441c",
   "metadata": {},
   "source": [
    "# Football Data Analysis"
   ]
  },
  {
   "cell_type": "markdown",
   "id": "b0c03ff2-ee21-4ca6-9b67-39d13cc33964",
   "metadata": {},
   "source": [
    "## Introduction"
   ]
  },
  {
   "cell_type": "markdown",
   "id": "89a070b1-2f20-46ee-899c-46e97963fc56",
   "metadata": {},
   "source": [
    "Football is a sport filled with numbers and data, and data analysis has become an important tool for understanding the game. By analyzing data, coaches and players can gain insights into the game and create a foundation for better decision-making, both on and off the field.\n",
    "\n",
    "Football data analysis is all about understanding the game and how it works, from player performance and team dynamics to broader trends in the league. Data analysis can help uncover trends, find strengths and weaknesses, and identify opportunities for improvement. The goal is to gain a deeper understanding of the sport from a quantitative perspective."
   ]
  },
  {
   "cell_type": "markdown",
   "id": "53136f52-6b97-490d-8ae5-9869b374f51f",
   "metadata": {},
   "source": [
    "This project will cover the fundamentals of data science by exploring a real-world data set. First, we will load the necessary libraries for the project. This includes libraries such as pandas and sqlite3 for data handling, matplotlib for visualization and numpy."
   ]
  },
  {
   "cell_type": "code",
   "execution_count": 30,
   "id": "8fa609d7-f7eb-49c0-b503-23301af0785b",
   "metadata": {},
   "outputs": [],
   "source": [
    "import pandas as pd\n",
    "import sqlite3 "
   ]
  },
  {
   "cell_type": "code",
   "execution_count": 31,
   "id": "117d7cd7-e83d-458c-8fb5-1182feb17853",
   "metadata": {},
   "outputs": [],
   "source": [
    "con = sqlite3.connect('football-data.sqlite')"
   ]
  },
  {
   "cell_type": "markdown",
   "id": "578b9fdf-6a4b-4dd2-8ea2-fa5d6b4cb468",
   "metadata": {},
   "source": [
    "We will then download our dataset from the [web](https://www.football-data.co.uk/downloadm.php). The dataset will be a Excel file, which we can easily import into our project. This dataset will provide us with the data we need to explore."
   ]
  },
  {
   "cell_type": "markdown",
   "id": "aec71f4c-d674-4d17-ae20-339d4bb0804a",
   "metadata": {},
   "source": [
    "Registering with any of the advertised bookmakers on Football-Data will help keep access to the historical results and betting odds data files FREE.\n",
    "\n",
    "Below you will find download links to all available Excel and CSV data files to use for quantitative testing of betting systems in spreadsheet applications like Excel. League tables, head2head statistics and information on goalscrores, first scorers and top scorers can now be accessed through the Livescore service.\n",
    "\n",
    "[Notes.txt](https://www.football-data.co.uk/notes.txt) (text file key to the data files and data source acknowledgements)\n",
    "\n",
    "> Note: From 2018/2019 the shots data for Serie A is showing an inconsistency with previous seasons, and looks to be related to the inclusion of blocked shots. Users of the data should bear this in mind when collating several seasons together for analysis purposes. "
   ]
  },
  {
   "cell_type": "markdown",
   "id": "03abb6b7-70ef-4861-a404-d9a87e7495f7",
   "metadata": {},
   "source": [
    "https://www.football-data.co.uk/downloadm.php"
   ]
  },
  {
   "cell_type": "code",
   "execution_count": 26,
   "id": "717f5487-cbc5-419c-afff-ea34eb06debc",
   "metadata": {},
   "outputs": [],
   "source": [
    "divisions = {\n",
    "    'E0': 'Premier League (England)',\n",
    "    'E1': 'Championship (England)',\n",
    "    'E2': 'League 1 (England)',\n",
    "    'E3': 'League 2 (England)',\n",
    "    'SC0': 'Premier League (Scotland)',\n",
    "    'SC1': 'Division 1 (Scotland)',\n",
    "    'SC2': 'Division 2 (Scotland)',\n",
    "    'SC3': 'Division 3 (Scotland)',\n",
    "    'D1': 'Bundesliga 1 (Germany)',\n",
    "    'D2': 'Bundesliga 2 (Germany)',\n",
    "    'SP1': 'La Liga Primera División (Spain)',\n",
    "    'SP2': 'La Liga Segunda División (Spain)',\n",
    "    'I1': 'Seria A (Italy)',\n",
    "    'I2': 'Serie B (Italy)',\n",
    "    'F1': 'Le Championnat (France)',\n",
    "    'F2': 'Division 2 (France)',\n",
    "    'B1': 'Jupiler League (Belgium)',\n",
    "    'N1': 'Eredivise (Netherlands)', \n",
    "    'P1': 'Liga I (Portugal)',\n",
    "    'T1': 'Futbol Ligi 1 (Turkey)', \n",
    "    'G1': 'Ethniki Katigoria (Greece)'}"
   ]
  },
  {
   "cell_type": "code",
   "execution_count": 49,
   "id": "385b85fa-d032-4190-846f-47d89a4a874e",
   "metadata": {},
   "outputs": [],
   "source": [
    "id_names = {\n",
    "    'Div': 'League Division',\n",
    "    'Date': 'Match Date (dd/mm/yy)',\n",
    "    'Time': 'Time of match kick off',\n",
    "    'HomeTeam': 'Home Team',\n",
    "    'AwayTeam': 'Away Team',\n",
    "    'FTHG': 'Full Time Home Team Goals',\n",
    "    'HG': 'Full Time Home Team Goals',\n",
    "    'FTAG': 'Full Time Away Team Goals',\n",
    "    'AG': 'Full Time Away Team Goals',\n",
    "    'FTR': 'Full Time Result (H=Home Win, D=Draw, A=Away Win)',\n",
    "    'Res': 'Full Time Result (H=Home Win, D=Draw, A=Away Win)',\n",
    "    'HTHG': 'Half Time Home Team Goals',\n",
    "    'HTAG': 'Half Time Away Team Goals',\n",
    "    'HTR': 'Half Time Result (H=Home Win, D=Draw, A=Away Win)',\n",
    "    'Referee': 'Match Referee',\n",
    "    'HS': 'Home Team Shots',\n",
    "    'AS': 'Away Team Shots',\n",
    "    'HST': 'Home Team Shots on Target',\n",
    "    'AST': 'Away Team Shots on Target',\n",
    "    'HHW': 'Home Team Hit Woodwork',\n",
    "    'AHW': 'Away Team Hit Woodwork',\n",
    "    'HC': 'Home Team Corners',\n",
    "    'AC': 'Away Team Corners',\n",
    "    'HF': 'Home Team Fouls Committed',\n",
    "    'AF': 'Away Team Fouls Committed',\n",
    "    'HFKC': 'Home Team Free Kicks Conceded',\n",
    "    'AFKC': 'Away Team Free Kicks Conceded',\n",
    "    'HO': 'Home Team Offsides',\n",
    "    'AO': 'Away Team Offsides',\n",
    "    'HY': 'Home Team Yellow Cards',\n",
    "    'AY': 'Away Team Yellow Cards',\n",
    "    'HR': 'Home Team Red Cards',\n",
    "    'AR': 'Away Team Red Cards',\n",
    "    'HBP': 'Home Team Bookings Points (10 = yellow, 25 = red)',\n",
    "    'ABP': 'Away Team Bookings Points (10 = yellow, 25 = red)'}"
   ]
  },
  {
   "cell_type": "code",
   "execution_count": 54,
   "id": "c401ca13-cf55-4701-ade2-0c4697224d4d",
   "metadata": {},
   "outputs": [],
   "source": [
    "ids = list(id_names.keys())"
   ]
  },
  {
   "cell_type": "code",
   "execution_count": 3,
   "id": "32f4bf77-a24d-42a2-99fd-848140890bb4",
   "metadata": {},
   "outputs": [],
   "source": [
    "def dt_address_structure(x = 2022):\n",
    "    return f\"https://www.football-data.co.uk/mmz4281/{str(x)[2:]}{str(x+1)[2:]}/all-euro-data-{str(x)}-{str(x+1)}.xlsx\""
   ]
  },
  {
   "cell_type": "code",
   "execution_count": 4,
   "id": "03d3bacc-f83a-4c4a-b780-b5b908e1028f",
   "metadata": {},
   "outputs": [
    {
     "data": {
      "text/plain": [
       "'https://www.football-data.co.uk/mmz4281/9900/all-euro-data-1999-2000.xlsx'"
      ]
     },
     "execution_count": 4,
     "metadata": {},
     "output_type": "execute_result"
    }
   ],
   "source": [
    "dt_address_structure(1999)"
   ]
  },
  {
   "cell_type": "markdown",
   "id": "18c25a1e-b9e9-46ca-8af2-86b4926cc3fc",
   "metadata": {},
   "source": [
    "Since 1995, there are data for all leagues."
   ]
  },
  {
   "cell_type": "code",
   "execution_count": 20,
   "id": "23b1ef3c-662c-4598-bd52-8e0deec9c2c8",
   "metadata": {},
   "outputs": [],
   "source": [
    "seasons = range(1995,2023)"
   ]
  },
  {
   "cell_type": "code",
   "execution_count": 55,
   "id": "79e294c3-9250-4f16-9e00-ac35100246c9",
   "metadata": {},
   "outputs": [],
   "source": [
    "football_data = []\n",
    "\n",
    "for season in seasons:\n",
    "    for key, value in divisions.items():\n",
    "        data = pd.read_excel(dt_address_structure(season), sheet_name = key)\n",
    "        \n",
    "        data = data.loc[:, list(set(data.columns).intersection(set(ids)))]\n",
    "        # Two new variables are created: League and Season\n",
    "        data['League'] = value\n",
    "        data['Season'] = f\"{str(season)}/{str(season+1)}\"\n",
    "        football_data.append(data)"
   ]
  },
  {
   "cell_type": "code",
   "execution_count": 56,
   "id": "863c773c-2186-4edc-b984-889299f4cf09",
   "metadata": {},
   "outputs": [],
   "source": [
    "football_data = pd.concat(football_data)"
   ]
  },
  {
   "cell_type": "code",
   "execution_count": 57,
   "id": "f6369592-9a02-400c-9f81-fd44c5bb0557",
   "metadata": {},
   "outputs": [
    {
     "data": {
      "text/plain": [
       "Championship (England)              15166\n",
       "League 2 (England)                  15037\n",
       "League 1 (England)                  14997\n",
       "La Liga Segunda División (Spain)    12412\n",
       "Serie B (Italy)                     11124\n",
       "Premier League (England)            10922\n",
       "La Liga Primera División (Spain)    10916\n",
       "Le Championnat (France)             10775\n",
       "Division 2 (France)                 10528\n",
       "Seria A (Italy)                     10482\n",
       "Futbol Ligi 1 (Turkey)               9526\n",
       "Eredivise (Netherlands)              9298\n",
       "Bundesliga 2 (Germany)               9153\n",
       "Bundesliga 1 (Germany)               9135\n",
       "Liga I (Portugal)                    8835\n",
       "Jupiler League (Belgium)             8599\n",
       "Ethniki Katigoria (Greece)           7959\n",
       "Premier League (Scotland)            7077\n",
       "Division 1 (Scotland)                5973\n",
       "Division 2 (Scotland)                4882\n",
       "Division 3 (Scotland)                4878\n",
       "Name: League, dtype: int64"
      ]
     },
     "execution_count": 57,
     "metadata": {},
     "output_type": "execute_result"
    }
   ],
   "source": [
    "football_data['League'].value_counts()"
   ]
  },
  {
   "cell_type": "markdown",
   "id": "9a084d17-33ca-43aa-bb1d-1c1522fbdcc9",
   "metadata": {},
   "source": [
    "There are any variable with all data missing?"
   ]
  },
  {
   "cell_type": "code",
   "execution_count": 58,
   "id": "79d2e82c-88a6-4af6-bbe5-12426692181f",
   "metadata": {},
   "outputs": [
    {
     "data": {
      "text/plain": [
       "[]"
      ]
     },
     "execution_count": 58,
     "metadata": {},
     "output_type": "execute_result"
    }
   ],
   "source": [
    "football_data.columns[football_data.isna().all()].to_list()"
   ]
  },
  {
   "cell_type": "code",
   "execution_count": 59,
   "id": "7580ebbf-050a-4433-a37d-392814dec834",
   "metadata": {},
   "outputs": [],
   "source": [
    "columns_to_remove = football_data.columns[football_data.isna().all()].to_list()\n",
    "\n",
    "if len(columns_to_remove) > 0:\n",
    "    football_data.drop(columns = columns_to_remove, inplace = True)"
   ]
  },
  {
   "cell_type": "markdown",
   "id": "82ad9219-1b69-48d4-8207-d2971e11e988",
   "metadata": {},
   "source": [
    "Save the data as SQLite table."
   ]
  },
  {
   "cell_type": "code",
   "execution_count": 60,
   "id": "0ff6dc97-7628-4f0e-90f9-1cb345b97491",
   "metadata": {},
   "outputs": [],
   "source": [
    "football_data.to_sql('footballdata', con, if_exists = 'replace', index = False)"
   ]
  },
  {
   "cell_type": "markdown",
   "id": "c87735dd-baa6-40d5-b06e-a1a107a6f581",
   "metadata": {},
   "source": [
    "We close the SQLite connection."
   ]
  },
  {
   "cell_type": "code",
   "execution_count": 61,
   "id": "4abea1f7-c82d-40a9-b84e-18f0e0018038",
   "metadata": {},
   "outputs": [],
   "source": [
    "con.close()"
   ]
  },
  {
   "cell_type": "markdown",
   "id": "437e2cfd-eabb-496c-b875-bff4bac7fa6f",
   "metadata": {},
   "source": [
    "We clean the data with `UPDATE.sql`."
   ]
  }
 ],
 "metadata": {
  "kernelspec": {
   "display_name": "Python 3 (ipykernel)",
   "language": "python",
   "name": "python3"
  },
  "language_info": {
   "codemirror_mode": {
    "name": "ipython",
    "version": 3
   },
   "file_extension": ".py",
   "mimetype": "text/x-python",
   "name": "python",
   "nbconvert_exporter": "python",
   "pygments_lexer": "ipython3",
   "version": "3.7.9"
  },
  "widgets": {
   "application/vnd.jupyter.widget-state+json": {
    "state": {},
    "version_major": 2,
    "version_minor": 0
   }
  }
 },
 "nbformat": 4,
 "nbformat_minor": 5
}
