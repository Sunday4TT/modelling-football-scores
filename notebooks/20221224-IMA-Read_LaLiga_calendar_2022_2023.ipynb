{
 "cells": [
  {
   "cell_type": "markdown",
   "id": "2849ee6e-183e-443e-bb1a-b8425469d506",
   "metadata": {},
   "source": [
    "# Load LaLiga Calendar"
   ]
  },
  {
   "cell_type": "markdown",
   "id": "3fec5098-5998-480d-bdeb-47c0a86d7915",
   "metadata": {},
   "source": [
    "The Campeonato Nacional de Liga de Primera División, commonly known simply as Primera División in Spain, and as La Liga in English-speaking countries and officially as LaLiga Santander for sponsorship reasons, stylized as LaLiga, is the men's top professional football division of the Spanish football league system. Administered by the Liga Nacional de Fútbol Profesional, it is contested by 20 teams, with the three lowest-placed teams at the end of each season being relegated to the Segunda División and replaced by the top two teams and a play-off winner in that division. "
   ]
  },
  {
   "cell_type": "markdown",
   "id": "3b55f09e-c09c-4eae-bf67-92486ac19bc9",
   "metadata": {},
   "source": [
    "![](https://upload.wikimedia.org/wikipedia/commons/thumb/1/13/LaLiga.svg/1280px-LaLiga.svg.png)"
   ]
  },
  {
   "cell_type": "code",
   "execution_count": 9,
   "id": "29b92d5e-a621-44c1-94ef-998d3887fe55",
   "metadata": {},
   "outputs": [],
   "source": [
    "import pandas as pd\n",
    "import sqlite3"
   ]
  },
  {
   "cell_type": "code",
   "execution_count": 10,
   "id": "685fb31d-8b2f-4e7d-b4ab-f2df08666cd3",
   "metadata": {},
   "outputs": [],
   "source": [
    "con = sqlite3.connect('football-data.sqlite')"
   ]
  },
  {
   "cell_type": "code",
   "execution_count": 11,
   "id": "ca8b04ae-d3d2-43aa-aa52-992990876f0a",
   "metadata": {},
   "outputs": [],
   "source": [
    "path = 'https://www.marca.com/futbol/primera-division/calendario.html'"
   ]
  },
  {
   "cell_type": "code",
   "execution_count": 12,
   "id": "a0de0286-dff2-400f-8513-37f2b094691d",
   "metadata": {},
   "outputs": [],
   "source": [
    "dict_teams = {\n",
    "    'Almería': {\n",
    "        'name': 'Almería',\n",
    "        'fullname': 'Unión Deportiva Almería, S.A.D.',\n",
    "        'shield': 'https://e00-marca.uecdn.es/assets/sports/logos/football/png/72x72/1564.png'},\n",
    "    'Athletic': {\n",
    "        'name': 'Athletic',\n",
    "        'fullname': 'Athletic Club',\n",
    "        'shield': 'https://e00-marca.uecdn.es/assets/sports/logos/football/png/72x72/174.png'},\n",
    "    'Atlético': {\n",
    "        'name': 'Atlético',\n",
    "        'fullname': 'Club Atlético de Madrid, S.A.D.',\n",
    "        'shield': 'https://e00-marca.uecdn.es/assets/sports/logos/football/png/72x72/175.png'},\n",
    "    'Barcelona': {\n",
    "        'name': 'Barcelona',\n",
    "        'fullname': 'Fútbol Club Barcelona',\n",
    "        'shield': 'https://e00-marca.uecdn.es/assets/sports/logos/football/png/72x72/178.png'},\n",
    "    'Betis': {\n",
    "        'name': 'Betis',\n",
    "        'fullname': 'Betis Deportivo Balompié',\n",
    "        'shield': 'https://e00-marca.uecdn.es/assets/sports/logos/football/png/72x72/185.png'},\n",
    "    'Cádiz': {\n",
    "        'name': 'Cádiz',\n",
    "        'fullname': 'Cádiz Club de Fútbol, S.A.D.',\n",
    "        'shield': 'https://e00-marca.uecdn.es/assets/sports/logos/football/png/72x72/1737.png'},\n",
    "    'Celta': {\n",
    "        'name': 'Celta',\n",
    "        'fullname': 'Real Club Celta, S.A.D.',\n",
    "        'shield': 'https://e00-marca.uecdn.es/assets/sports/logos/football/png/72x72/176.png'},\n",
    "    'Elche': {\n",
    "        'name': 'Elche',\n",
    "        'fullname': 'Elche Club de Fútbol, S.A.D.',\n",
    "        'shield': 'https://e00-marca.uecdn.es/assets/sports/logos/football/png/72x72/954.png'},\n",
    "    'Espanyol': {\n",
    "        'name': 'Espanyol',        \n",
    "        'fullname': 'Real Club Deportivo Espanyol, S.A.D.',\n",
    "        'shield': 'https://e00-marca.uecdn.es/assets/sports/logos/football/png/72x72/177.png'},\n",
    "    'Getafe': {\n",
    "        'name': 'Getafe',\n",
    "        'fullname': 'Getafe Club de Fútbol, S.A.D.',\n",
    "        'shield': 'https://e00-marca.uecdn.es/assets/sports/logos/football/png/72x72/1450.png'},\n",
    "    'Girona': {\n",
    "        'name': 'Girona',\n",
    "        'fullname': 'Girona Fútbol Club, S.A.D.',\n",
    "        'shield': 'https://e00-marca.uecdn.es/assets/sports/logos/football/png/72x72/2893.png'},\n",
    "    'Mallorca': {\n",
    "        'name': 'Mallorca',\n",
    "        'fullname': 'Real Club Deportivo Mallorca, S.A.D.',\n",
    "        'shield': 'https://e00-marca.uecdn.es/assets/sports/logos/football/png/72x72/181.png'},\n",
    "    'Osasuna': {\n",
    "        'name': 'Osasuna',\n",
    "        'fullname': 'Club Atlético Osasuna',\n",
    "        'shield': 'https://e00-marca.uecdn.es/assets/sports/logos/football/png/72x72/450.png'},\n",
    "    'Rayo': {\n",
    "        'name': 'Rayo',\n",
    "        'fullname': 'Rayo Vallecano, S.A.D.',\n",
    "        'shield': 'https://e00-marca.uecdn.es/assets/sports/logos/football/png/72x72/184.png'},\n",
    "    'Real Madrid': {\n",
    "        'name': 'Real Madrid',\n",
    "        'fullname': 'Real Madrid Club de Fútbol',\n",
    "        'shield': 'https://e00-marca.uecdn.es/assets/sports/logos/football/png/72x72/186.png'},\n",
    "    'Real Sociedad': {\n",
    "        'name': 'Real Sociedad',\n",
    "        'fullname': 'Real Sociedad de Fútbol S.A.D.',\n",
    "        'shield': 'https://e00-marca.uecdn.es/assets/sports/logos/football/png/72x72/188.png'},\n",
    "    'Sevilla': {\n",
    "        'name': 'Sevilla',\n",
    "        'fullname': 'Sevilla Fútbol Club, S.A.D.',\n",
    "        'shield': 'https://e00-marca.uecdn.es/assets/sports/logos/football/png/72x72/179.png'},\n",
    "    'Valencia': {\n",
    "        'name': 'Valencia',\n",
    "        'fullname': 'Valencia Fútbol Club',\n",
    "        'shield': 'https://e00-marca.uecdn.es/assets/sports/logos/football/png/72x72/191.png'},\n",
    "    'Valladolid': {\n",
    "        'name': 'Valladolid',\n",
    "        'fullname': 'Real Valladolid Club de Fútbol, S.A.D.',\n",
    "        'shield': 'https://e00-marca.uecdn.es/assets/sports/logos/football/png/72x72/192.png'},  \n",
    "    'Villarreal': {\n",
    "        'name': 'Villarreal',\n",
    "        'fullname': 'Villarreal Club de Fútbol, S.A.D',\n",
    "        'shield': 'https://e00-marca.uecdn.es/assets/sports/logos/football/png/72x72/449.png'}}"
   ]
  },
  {
   "cell_type": "code",
   "execution_count": 13,
   "id": "e6138639-18d2-43ab-8600-5d36dfae7d07",
   "metadata": {},
   "outputs": [],
   "source": [
    "calendar_2223 = pd.read_html(path, header = 0)\n",
    "calendar_2223 = \\\n",
    "    pd\\\n",
    "        .concat(calendar_2223, keys = ['Jornada ' + str(x) for x in range(1,39)])\\\n",
    "        .reset_index()\\\n",
    "        .drop(columns = ['level_1'])\\\n",
    "        .rename(columns = {'level_0': 'Jornada'})\\\n",
    "        .rename(columns = {'Equipo local': 'Home', 'Equipo visitante': 'Away'})\\\n",
    "        .replace({'R. Sociedad': 'Real Sociedad'})"
   ]
  },
  {
   "cell_type": "code",
   "execution_count": 14,
   "id": "70a4b5d2-633d-433b-8b8f-d57ed1df0201",
   "metadata": {},
   "outputs": [],
   "source": [
    "calendar_2223.to_sql('calendar2223', con, if_exists = 'replace', index = False)"
   ]
  },
  {
   "cell_type": "code",
   "execution_count": 15,
   "id": "fe0e3c3f-99ec-4085-96f8-e55469d13bfc",
   "metadata": {},
   "outputs": [],
   "source": [
    "pd.DataFrame(dict_teams).T.to_sql('description', con, if_exists = 'replace', index = False)"
   ]
  },
  {
   "cell_type": "code",
   "execution_count": 16,
   "id": "648fb702-1fe4-42dc-bd7e-31d5cb1a7d0f",
   "metadata": {},
   "outputs": [],
   "source": [
    "con.close()"
   ]
  }
 ],
 "metadata": {
  "kernelspec": {
   "display_name": "Python 3 (ipykernel)",
   "language": "python",
   "name": "python3"
  },
  "language_info": {
   "codemirror_mode": {
    "name": "ipython",
    "version": 3
   },
   "file_extension": ".py",
   "mimetype": "text/x-python",
   "name": "python",
   "nbconvert_exporter": "python",
   "pygments_lexer": "ipython3",
   "version": "3.7.9"
  },
  "widgets": {
   "application/vnd.jupyter.widget-state+json": {
    "state": {},
    "version_major": 2,
    "version_minor": 0
   }
  }
 },
 "nbformat": 4,
 "nbformat_minor": 5
}
